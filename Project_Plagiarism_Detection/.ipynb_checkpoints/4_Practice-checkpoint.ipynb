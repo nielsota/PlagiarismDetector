{
 "cells": [
  {
   "cell_type": "code",
   "execution_count": 13,
   "id": "61875f3c",
   "metadata": {},
   "outputs": [
    {
     "name": "stdout",
     "output_type": "stream",
     "text": [
      "ai-api-bucket\n",
      "exports/spam-sms/spam-classifer-metadata.json\n",
      "exports/spam-sms/spam-classifer-tokenizer.json\n",
      "exports/spam-sms/spam-model.h5\n",
      "sagemaker-us-east-1-906764816799\n",
      "plagiarism_data/test.csv\n",
      "plagiarism_data/train.csv\n",
      "sagemaker-scikit-learn-2021-11-10-09-54-40-514/profiler-output/system/incremental/2021111009/1636538220.algo-1.json\n",
      "sagemaker-scikit-learn-2021-11-10-09-54-40-514/profiler-output/system/incremental/2021111009/1636538280.algo-1.json\n",
      "sagemaker-scikit-learn-2021-11-10-09-54-40-514/source/sourcedir.tar.gz\n",
      "sagemaker-scikit-learn-2021-11-10-10-04-32-684/profiler-output/system/incremental/2021111010/1636538820.algo-1.json\n",
      "sagemaker-scikit-learn-2021-11-10-10-04-32-684/profiler-output/system/incremental/2021111010/1636538880.algo-1.json\n",
      "sagemaker-scikit-learn-2021-11-10-10-04-32-684/source/sourcedir.tar.gz\n"
     ]
    }
   ],
   "source": [
    "import sagemaker\n",
    "import boto3\n",
    "\n",
    "session = sagemaker.Session()\n",
    "\n",
    "# traversals\n",
    "for bucket in boto3.resource('s3').buckets.all():\n",
    "    print(bucket.name)\n",
    "    for obj in bucket.objects.all():\n",
    "        print(obj.key)"
   ]
  },
  {
   "cell_type": "code",
   "execution_count": 16,
   "id": "a0612df6",
   "metadata": {},
   "outputs": [
    {
     "name": "stdout",
     "output_type": "stream",
     "text": [
      "s3.Bucket(name='sagemaker-us-east-1-906764816799')\n"
     ]
    }
   ],
   "source": [
    "# Create specific bucket from a string name\n",
    "\n",
    "bucket_name = 'sagemaker-us-east-1-906764816799'\n",
    "\n",
    "specific_bucket_from_string = boto3.resource('s3').Bucket(bucket_name)\n",
    "print(specific_bucket_from_string)"
   ]
  },
  {
   "cell_type": "code",
   "execution_count": 25,
   "id": "1958fd29",
   "metadata": {},
   "outputs": [
    {
     "name": "stdout",
     "output_type": "stream",
     "text": [
      "sagemaker-scikit-learn-2021-11-10-09-54-40-514/profiler-output/system/incremental/2021111009/1636538220.algo-1.json\n",
      "sagemaker-scikit-learn-2021-11-10-09-54-40-514/profiler-output/system/incremental/2021111009/1636538280.algo-1.json\n",
      "sagemaker-scikit-learn-2021-11-10-09-54-40-514/source/sourcedir.tar.gz\n",
      "sagemaker-scikit-learn-2021-11-10-10-04-32-684/profiler-output/system/incremental/2021111010/1636538820.algo-1.json\n",
      "sagemaker-scikit-learn-2021-11-10-10-04-32-684/profiler-output/system/incremental/2021111010/1636538880.algo-1.json\n",
      "sagemaker-scikit-learn-2021-11-10-10-04-32-684/rule-output/ProfilerReport-1636538672/profiler-output/profiler-report.html\n",
      "sagemaker-scikit-learn-2021-11-10-10-04-32-684/rule-output/ProfilerReport-1636538672/profiler-output/profiler-report.ipynb\n",
      "sagemaker-scikit-learn-2021-11-10-10-04-32-684/rule-output/ProfilerReport-1636538672/profiler-output/profiler-reports/BatchSize.json\n",
      "sagemaker-scikit-learn-2021-11-10-10-04-32-684/rule-output/ProfilerReport-1636538672/profiler-output/profiler-reports/CPUBottleneck.json\n",
      "sagemaker-scikit-learn-2021-11-10-10-04-32-684/rule-output/ProfilerReport-1636538672/profiler-output/profiler-reports/Dataloader.json\n",
      "sagemaker-scikit-learn-2021-11-10-10-04-32-684/rule-output/ProfilerReport-1636538672/profiler-output/profiler-reports/GPUMemoryIncrease.json\n",
      "sagemaker-scikit-learn-2021-11-10-10-04-32-684/rule-output/ProfilerReport-1636538672/profiler-output/profiler-reports/IOBottleneck.json\n",
      "sagemaker-scikit-learn-2021-11-10-10-04-32-684/rule-output/ProfilerReport-1636538672/profiler-output/profiler-reports/LoadBalancing.json\n",
      "sagemaker-scikit-learn-2021-11-10-10-04-32-684/rule-output/ProfilerReport-1636538672/profiler-output/profiler-reports/LowGPUUtilization.json\n",
      "sagemaker-scikit-learn-2021-11-10-10-04-32-684/rule-output/ProfilerReport-1636538672/profiler-output/profiler-reports/MaxInitializationTime.json\n",
      "sagemaker-scikit-learn-2021-11-10-10-04-32-684/rule-output/ProfilerReport-1636538672/profiler-output/profiler-reports/OverallFrameworkMetrics.json\n",
      "sagemaker-scikit-learn-2021-11-10-10-04-32-684/rule-output/ProfilerReport-1636538672/profiler-output/profiler-reports/OverallSystemUsage.json\n",
      "sagemaker-scikit-learn-2021-11-10-10-04-32-684/rule-output/ProfilerReport-1636538672/profiler-output/profiler-reports/StepOutlier.json\n",
      "sagemaker-scikit-learn-2021-11-10-10-04-32-684/source/sourcedir.tar.gz\n",
      "sagemaker-scikit-learn-2021-11-10-10-18-01-515/profiler-output/system/incremental/2021111010/1636539660.algo-1.json\n",
      "sagemaker-scikit-learn-2021-11-10-10-18-01-515/profiler-output/system/incremental/2021111010/1636539720.algo-1.json\n",
      "sagemaker-scikit-learn-2021-11-10-10-18-01-515/profiler-output/system/incremental/2021111010/1636539780.algo-1.json\n",
      "sagemaker-scikit-learn-2021-11-10-10-18-01-515/profiler-output/system/incremental/2021111010/1636539840.algo-1.json\n",
      "sagemaker-scikit-learn-2021-11-10-10-18-01-515/profiler-output/system/incremental/2021111010/1636539900.algo-1.json\n",
      "sagemaker-scikit-learn-2021-11-10-10-18-01-515/profiler-output/system/incremental/2021111010/1636539960.algo-1.json\n",
      "sagemaker-scikit-learn-2021-11-10-10-18-01-515/profiler-output/system/incremental/2021111010/1636540020.algo-1.json\n",
      "sagemaker-scikit-learn-2021-11-10-10-18-01-515/profiler-output/system/incremental/2021111010/1636540080.algo-1.json\n",
      "sagemaker-scikit-learn-2021-11-10-10-18-01-515/profiler-output/system/incremental/2021111010/1636540140.algo-1.json\n",
      "sagemaker-scikit-learn-2021-11-10-10-18-01-515/profiler-output/system/incremental/2021111010/1636540200.algo-1.json\n",
      "sagemaker-scikit-learn-2021-11-10-10-18-01-515/profiler-output/system/incremental/2021111010/1636540260.algo-1.json\n",
      "sagemaker-scikit-learn-2021-11-10-10-18-01-515/profiler-output/system/incremental/2021111010/1636540320.algo-1.json\n",
      "sagemaker-scikit-learn-2021-11-10-10-18-01-515/rule-output/ProfilerReport-1636539481/profiler-output/profiler-report.html\n",
      "sagemaker-scikit-learn-2021-11-10-10-18-01-515/rule-output/ProfilerReport-1636539481/profiler-output/profiler-report.ipynb\n",
      "sagemaker-scikit-learn-2021-11-10-10-18-01-515/rule-output/ProfilerReport-1636539481/profiler-output/profiler-reports/BatchSize.json\n",
      "sagemaker-scikit-learn-2021-11-10-10-18-01-515/rule-output/ProfilerReport-1636539481/profiler-output/profiler-reports/CPUBottleneck.json\n",
      "sagemaker-scikit-learn-2021-11-10-10-18-01-515/rule-output/ProfilerReport-1636539481/profiler-output/profiler-reports/Dataloader.json\n",
      "sagemaker-scikit-learn-2021-11-10-10-18-01-515/rule-output/ProfilerReport-1636539481/profiler-output/profiler-reports/GPUMemoryIncrease.json\n",
      "sagemaker-scikit-learn-2021-11-10-10-18-01-515/rule-output/ProfilerReport-1636539481/profiler-output/profiler-reports/IOBottleneck.json\n",
      "sagemaker-scikit-learn-2021-11-10-10-18-01-515/rule-output/ProfilerReport-1636539481/profiler-output/profiler-reports/LoadBalancing.json\n",
      "sagemaker-scikit-learn-2021-11-10-10-18-01-515/rule-output/ProfilerReport-1636539481/profiler-output/profiler-reports/LowGPUUtilization.json\n",
      "sagemaker-scikit-learn-2021-11-10-10-18-01-515/rule-output/ProfilerReport-1636539481/profiler-output/profiler-reports/MaxInitializationTime.json\n",
      "sagemaker-scikit-learn-2021-11-10-10-18-01-515/rule-output/ProfilerReport-1636539481/profiler-output/profiler-reports/OverallFrameworkMetrics.json\n",
      "sagemaker-scikit-learn-2021-11-10-10-18-01-515/rule-output/ProfilerReport-1636539481/profiler-output/profiler-reports/OverallSystemUsage.json\n",
      "sagemaker-scikit-learn-2021-11-10-10-18-01-515/rule-output/ProfilerReport-1636539481/profiler-output/profiler-reports/StepOutlier.json\n",
      "sagemaker-scikit-learn-2021-11-10-10-18-01-515/source/sourcedir.tar.gz\n",
      "sagemaker-scikit-learn-2021-11-10-10-31-27-390/profiler-output/system/incremental/2021111010/1636540440.algo-1.json\n",
      "sagemaker-scikit-learn-2021-11-10-10-31-27-390/profiler-output/system/incremental/2021111010/1636540500.algo-1.json\n",
      "sagemaker-scikit-learn-2021-11-10-10-31-27-390/profiler-output/system/incremental/2021111010/1636540560.algo-1.json\n",
      "sagemaker-scikit-learn-2021-11-10-10-31-27-390/rule-output/ProfilerReport-1636540287/profiler-output/profiler-report.html\n",
      "sagemaker-scikit-learn-2021-11-10-10-31-27-390/rule-output/ProfilerReport-1636540287/profiler-output/profiler-report.ipynb\n",
      "sagemaker-scikit-learn-2021-11-10-10-31-27-390/rule-output/ProfilerReport-1636540287/profiler-output/profiler-reports/BatchSize.json\n",
      "sagemaker-scikit-learn-2021-11-10-10-31-27-390/rule-output/ProfilerReport-1636540287/profiler-output/profiler-reports/CPUBottleneck.json\n",
      "sagemaker-scikit-learn-2021-11-10-10-31-27-390/rule-output/ProfilerReport-1636540287/profiler-output/profiler-reports/Dataloader.json\n",
      "sagemaker-scikit-learn-2021-11-10-10-31-27-390/rule-output/ProfilerReport-1636540287/profiler-output/profiler-reports/GPUMemoryIncrease.json\n",
      "sagemaker-scikit-learn-2021-11-10-10-31-27-390/rule-output/ProfilerReport-1636540287/profiler-output/profiler-reports/IOBottleneck.json\n",
      "sagemaker-scikit-learn-2021-11-10-10-31-27-390/rule-output/ProfilerReport-1636540287/profiler-output/profiler-reports/LoadBalancing.json\n",
      "sagemaker-scikit-learn-2021-11-10-10-31-27-390/rule-output/ProfilerReport-1636540287/profiler-output/profiler-reports/LowGPUUtilization.json\n",
      "sagemaker-scikit-learn-2021-11-10-10-31-27-390/rule-output/ProfilerReport-1636540287/profiler-output/profiler-reports/MaxInitializationTime.json\n",
      "sagemaker-scikit-learn-2021-11-10-10-31-27-390/rule-output/ProfilerReport-1636540287/profiler-output/profiler-reports/OverallFrameworkMetrics.json\n",
      "sagemaker-scikit-learn-2021-11-10-10-31-27-390/rule-output/ProfilerReport-1636540287/profiler-output/profiler-reports/OverallSystemUsage.json\n",
      "sagemaker-scikit-learn-2021-11-10-10-31-27-390/rule-output/ProfilerReport-1636540287/profiler-output/profiler-reports/StepOutlier.json\n",
      "sagemaker-scikit-learn-2021-11-10-10-31-27-390/source/sourcedir.tar.gz\n",
      "sagemaker-scikit-learn-2021-11-12-09-47-51-763/debug-output/training_job_end.ts\n",
      "sagemaker-scikit-learn-2021-11-12-09-47-51-763/output/model.tar.gz\n",
      "sagemaker-scikit-learn-2021-11-12-09-47-51-763/profiler-output/framework/training_job_end.ts\n",
      "sagemaker-scikit-learn-2021-11-12-09-47-51-763/profiler-output/system/incremental/2021111209/1636710660.algo-1.json\n",
      "sagemaker-scikit-learn-2021-11-12-09-47-51-763/profiler-output/system/incremental/2021111209/1636710720.algo-1.json\n",
      "sagemaker-scikit-learn-2021-11-12-09-47-51-763/profiler-output/system/training_job_end.ts\n",
      "sagemaker-scikit-learn-2021-11-12-09-47-51-763/rule-output/ProfilerReport-1636710471/profiler-output/profiler-report.html\n",
      "sagemaker-scikit-learn-2021-11-12-09-47-51-763/rule-output/ProfilerReport-1636710471/profiler-output/profiler-report.ipynb\n",
      "sagemaker-scikit-learn-2021-11-12-09-47-51-763/rule-output/ProfilerReport-1636710471/profiler-output/profiler-reports/BatchSize.json\n",
      "sagemaker-scikit-learn-2021-11-12-09-47-51-763/rule-output/ProfilerReport-1636710471/profiler-output/profiler-reports/CPUBottleneck.json\n",
      "sagemaker-scikit-learn-2021-11-12-09-47-51-763/rule-output/ProfilerReport-1636710471/profiler-output/profiler-reports/Dataloader.json\n",
      "sagemaker-scikit-learn-2021-11-12-09-47-51-763/rule-output/ProfilerReport-1636710471/profiler-output/profiler-reports/GPUMemoryIncrease.json\n",
      "sagemaker-scikit-learn-2021-11-12-09-47-51-763/rule-output/ProfilerReport-1636710471/profiler-output/profiler-reports/IOBottleneck.json\n",
      "sagemaker-scikit-learn-2021-11-12-09-47-51-763/rule-output/ProfilerReport-1636710471/profiler-output/profiler-reports/LoadBalancing.json\n",
      "sagemaker-scikit-learn-2021-11-12-09-47-51-763/rule-output/ProfilerReport-1636710471/profiler-output/profiler-reports/LowGPUUtilization.json\n",
      "sagemaker-scikit-learn-2021-11-12-09-47-51-763/rule-output/ProfilerReport-1636710471/profiler-output/profiler-reports/MaxInitializationTime.json\n",
      "sagemaker-scikit-learn-2021-11-12-09-47-51-763/rule-output/ProfilerReport-1636710471/profiler-output/profiler-reports/OverallFrameworkMetrics.json\n",
      "sagemaker-scikit-learn-2021-11-12-09-47-51-763/rule-output/ProfilerReport-1636710471/profiler-output/profiler-reports/OverallSystemUsage.json\n",
      "sagemaker-scikit-learn-2021-11-12-09-47-51-763/rule-output/ProfilerReport-1636710471/profiler-output/profiler-reports/StepOutlier.json\n",
      "sagemaker-scikit-learn-2021-11-12-09-47-51-763/source/sourcedir.tar.gz\n"
     ]
    }
   ],
   "source": [
    "# Clean up bucket\n",
    "\n",
    "for obj in boto3.resource('s3').Bucket(bucket_name).objects.all():\n",
    "    if 'train.csv' not in obj.key and 'test.csv' not in obj.key:\n",
    "        print(obj.key)"
   ]
  },
  {
   "cell_type": "code",
   "execution_count": null,
   "id": "b66ee900",
   "metadata": {},
   "outputs": [],
   "source": []
  }
 ],
 "metadata": {
  "kernelspec": {
   "display_name": "conda_pytorch_p36",
   "language": "python",
   "name": "conda_pytorch_p36"
  },
  "language_info": {
   "codemirror_mode": {
    "name": "ipython",
    "version": 3
   },
   "file_extension": ".py",
   "mimetype": "text/x-python",
   "name": "python",
   "nbconvert_exporter": "python",
   "pygments_lexer": "ipython3",
   "version": "3.6.13"
  }
 },
 "nbformat": 4,
 "nbformat_minor": 5
}
